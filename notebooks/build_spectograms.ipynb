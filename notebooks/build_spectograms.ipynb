{
 "cells": [
  {
   "cell_type": "markdown",
   "metadata": {},
   "source": [
    "# Imports"
   ]
  },
  {
   "cell_type": "code",
   "execution_count": null,
   "metadata": {},
   "outputs": [],
   "source": [
    "import pandas as pd\n",
    "import numpy as np\n",
    "\n",
    "from src.spotify_utils import get_all_songs_from_df\n",
    "from src.mp3_to_spectrogram import Spectrogram\n",
    "\n",
    "import glob\n",
    "from tqdm import tqdm\n",
    "import warnings\n",
    "import os\n",
    "\n",
    "warnings.filterwarnings(\"ignore\")"
   ]
  },
  {
   "cell_type": "markdown",
   "metadata": {},
   "source": [
    "# Basic Checks"
   ]
  },
  {
   "cell_type": "code",
   "execution_count": null,
   "metadata": {},
   "outputs": [],
   "source": [
    "# Go back to root \n",
    "os.chdir(\"..\")"
   ]
  },
  {
   "cell_type": "code",
   "execution_count": null,
   "metadata": {},
   "outputs": [],
   "source": [
    "# Check credentials \n",
    "try:\n",
    "    assert os.path.exists(\"credentials.py\")\n",
    "except:\n",
    "    raise Exception(\"Download Credentials Spotify\")"
   ]
  },
  {
   "cell_type": "code",
   "execution_count": null,
   "metadata": {},
   "outputs": [],
   "source": [
    "# Check directories exist\n",
    "try:\n",
    "    assert os.path.exists(\"data/mp3/\")\n",
    "    assert os.path.exists(\"data/wav/\")\n",
    "    assert os.path.exists(\"data/spectogram/\")\n",
    "except:\n",
    "    raise Exception(\"Create Directories for songs\")"
   ]
  },
  {
   "cell_type": "markdown",
   "metadata": {},
   "source": [
    "# Download Songs"
   ]
  },
  {
   "cell_type": "code",
   "execution_count": null,
   "metadata": {},
   "outputs": [],
   "source": [
    "# Load Dataset\n",
    "df_train = pd.read_csv(\"lastfm_mood/lastfm_mood_train.csv\")"
   ]
  },
  {
   "cell_type": "code",
   "execution_count": null,
   "metadata": {},
   "outputs": [],
   "source": [
    "# Create Subset based on selected mood\n",
    "sub_df = df_train[df_train.mood_cat==\"Relaxed\"].reset_index(drop=True)"
   ]
  },
  {
   "cell_type": "code",
   "execution_count": null,
   "metadata": {},
   "outputs": [],
   "source": [
    "# Download all songs from the sub_df\n",
    "get_all_songs_from_df(sub_df, dest_dir=\"data/mp3/\")"
   ]
  },
  {
   "cell_type": "markdown",
   "metadata": {},
   "source": [
    "# Convert to WAV to JPG"
   ]
  },
  {
   "cell_type": "code",
   "execution_count": null,
   "metadata": {},
   "outputs": [],
   "source": [
    "# Convert to wav to JPG\n",
    "files = glob.glob(\"data/**/*.mp3\", recursive=True)\n",
    "for file in tqdm(files):\n",
    "    spec = Spectrogram()\n",
    "    track_id = file.split(\"/\")[-1]\n",
    "    dest_wav = 'data/wav/' + track_id.replace(\"mp3\", \"wav\")\n",
    "    dest_jpg = 'data/spectogram/' + track_id.replace(\"mp3\", \"jpg\")\n",
    "    spec.mp3_to_wav(file, dest_wav)\n",
    "    spec.wav_to_spectogram(dest_wav, dest_jpg)"
   ]
  },
  {
   "cell_type": "markdown",
   "metadata": {},
   "source": [
    "Repeat this loop for all classes"
   ]
  },
  {
   "cell_type": "code",
   "execution_count": null,
   "metadata": {},
   "outputs": [],
   "source": []
  }
 ],
 "metadata": {
  "kernelspec": {
   "display_name": "Python 3",
   "language": "python",
   "name": "python3"
  },
  "language_info": {
   "codemirror_mode": {
    "name": "ipython",
    "version": 3
   },
   "file_extension": ".py",
   "mimetype": "text/x-python",
   "name": "python",
   "nbconvert_exporter": "python",
   "pygments_lexer": "ipython3",
   "version": "3.7.4"
  }
 },
 "nbformat": 4,
 "nbformat_minor": 4
}
